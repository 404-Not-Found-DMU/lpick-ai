{
 "cells": [
  {
   "cell_type": "code",
   "execution_count": null,
   "id": "00eab7fa",
   "metadata": {
    "vscode": {
     "languageId": "plaintext"
    }
   },
   "outputs": [],
   "source": [
    "# 📌 1. 필요한 라이브러리 불러오기\n",
    "import os\n",
    "import pandas as pd\n",
    "import numpy as np\n",
    "import matplotlib.pyplot as plt\n",
    "from PIL import Image\n",
    "\n",
    "# Jupyter Notebook 안에서 이미지 바로 출력되도록 설정\n",
    "%matplotlib inline\n",
    "\n",
    "# 📌 2. 데이터 경로 설정\n",
    "RAW_DATA_DIR = '../data/raw'\n",
    "\n",
    "# 이미지와 텍스트 파일 목록 확인\n",
    "all_files = os.listdir(RAW_DATA_DIR)\n",
    "image_files = [f for f in all_files if f.lower().endswith(('.png', '.jpg', '.jpeg'))]\n",
    "text_files = [f for f in all_files if f.lower().endswith('.txt')]\n",
    "\n",
    "print(f\"✅ 총 이미지 파일 수: {len(image_files)}개\")\n",
    "print(f\"✅ 총 텍스트 파일 수: {len(text_files)}개\")\n",
    "\n",
    "# 📌 3. 샘플 이미지 5장 시각화\n",
    "sample_images = image_files[:5]\n",
    "\n",
    "plt.figure(figsize=(15, 5))\n",
    "for i, fname in enumerate(sample_images):\n",
    "    img_path = os.path.join(RAW_DATA_DIR, fname)\n",
    "    try:\n",
    "        img = Image.open(img_path)\n",
    "        plt.subplot(1, 5, i + 1)\n",
    "        plt.imshow(img)\n",
    "        plt.axis('off')\n",
    "        plt.title(fname[:10])\n",
    "    except Exception as e:\n",
    "        print(f\"❌ {fname} 로드 실패: {e}\")\n",
    "plt.show()\n",
    "\n",
    "# 📌 4. 샘플 텍스트 3개 출력\n",
    "for fname in text_files[:3]:\n",
    "    text_path = os.path.join(RAW_DATA_DIR, fname)\n",
    "    try:\n",
    "        with open(text_path, 'r', encoding='utf-8') as f:\n",
    "            content = f.read()\n",
    "            print(f\"📄 {fname} (앞 300자):\\n\")\n",
    "            print(content[:300])\n",
    "            print('-'*60)\n",
    "    except Exception as e:\n",
    "        print(f\"❌ {fname} 읽기 실패: {e}\")\n",
    "\n",
    "# 📌 5. 깨진 이미지 파일 검사\n",
    "def is_broken_image(path):\n",
    "    try:\n",
    "        img = Image.open(path)\n",
    "        img.verify()  # 검증만 수행\n",
    "        return False\n",
    "    except:\n",
    "        return True\n",
    "\n",
    "broken = [f for f in image_files if is_broken_image(os.path.join(RAW_DATA_DIR, f))]\n",
    "print(f\"❗ 깨진 이미지 파일 수: {len(broken)}개\")\n",
    "if broken:\n",
    "    print(\"🔴 깨진 파일 목록:\")\n",
    "    print(broken)\n",
    "else:\n",
    "    print(\"🟢 깨진 파일 없음\")\n"
   ]
  }
 ],
 "metadata": {
  "language_info": {
   "name": "python"
  }
 },
 "nbformat": 4,
 "nbformat_minor": 5
}
